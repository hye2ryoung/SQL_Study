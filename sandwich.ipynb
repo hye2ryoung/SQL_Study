{
 "cells": [
  {
   "cell_type": "code",
   "execution_count": 1,
   "metadata": {},
   "outputs": [],
   "source": [
    "import mysql.connector\n",
    "import pandas as pd"
   ]
  },
  {
   "cell_type": "code",
   "execution_count": 22,
   "metadata": {},
   "outputs": [],
   "source": [
    "conn = mysql.connector.connect(\n",
    " host = \"database-1.c7ik86m4cjyh.us-east-2.rds.amazonaws.com\",\n",
    " port = 3306,\n",
    " user = \"zero\",\n",
    " password = \"zerobase\",\n",
    " database = \"zerobase\"\n",
    ")"
   ]
  },
  {
   "cell_type": "code",
   "execution_count": 24,
   "metadata": {},
   "outputs": [
    {
     "data": {
      "text/html": [
       "<div>\n",
       "<style scoped>\n",
       "    .dataframe tbody tr th:only-of-type {\n",
       "        vertical-align: middle;\n",
       "    }\n",
       "\n",
       "    .dataframe tbody tr th {\n",
       "        vertical-align: top;\n",
       "    }\n",
       "\n",
       "    .dataframe thead th {\n",
       "        text-align: right;\n",
       "    }\n",
       "</style>\n",
       "<table border=\"1\" class=\"dataframe\">\n",
       "  <thead>\n",
       "    <tr style=\"text-align: right;\">\n",
       "      <th></th>\n",
       "      <th>Rank</th>\n",
       "      <th>Cafe</th>\n",
       "      <th>Menu</th>\n",
       "      <th>Price</th>\n",
       "      <th>Address</th>\n",
       "    </tr>\n",
       "  </thead>\n",
       "  <tbody>\n",
       "    <tr>\n",
       "      <th>45</th>\n",
       "      <td>46</td>\n",
       "      <td>Chickpea</td>\n",
       "      <td>Kufta</td>\n",
       "      <td>8.00</td>\n",
       "      <td>2018 W. Chicago Ave</td>\n",
       "    </tr>\n",
       "    <tr>\n",
       "      <th>46</th>\n",
       "      <td>47</td>\n",
       "      <td>The Goddess and Grocer</td>\n",
       "      <td>Debbie’s Egg Salad</td>\n",
       "      <td>6.50</td>\n",
       "      <td>25 E. Delaware Pl</td>\n",
       "    </tr>\n",
       "    <tr>\n",
       "      <th>47</th>\n",
       "      <td>48</td>\n",
       "      <td>Zenwich</td>\n",
       "      <td>Beef Curry</td>\n",
       "      <td>7.50</td>\n",
       "      <td>416 N. York St</td>\n",
       "    </tr>\n",
       "    <tr>\n",
       "      <th>48</th>\n",
       "      <td>49</td>\n",
       "      <td>Toni Patisserie</td>\n",
       "      <td>Le Végétarien</td>\n",
       "      <td>8.75</td>\n",
       "      <td>65 E. Washington St</td>\n",
       "    </tr>\n",
       "    <tr>\n",
       "      <th>49</th>\n",
       "      <td>50</td>\n",
       "      <td>Phoebe’s Bakery</td>\n",
       "      <td>The Gatsby</td>\n",
       "      <td>6.85</td>\n",
       "      <td>3351 N. Broadwa</td>\n",
       "    </tr>\n",
       "  </tbody>\n",
       "</table>\n",
       "</div>"
      ],
      "text/plain": [
       "    Rank                    Cafe                Menu  Price  \\\n",
       "45    46                Chickpea               Kufta   8.00   \n",
       "46    47  The Goddess and Grocer  Debbie’s Egg Salad   6.50   \n",
       "47    48                 Zenwich          Beef Curry   7.50   \n",
       "48    49         Toni Patisserie       Le Végétarien   8.75   \n",
       "49    50         Phoebe’s Bakery          The Gatsby   6.85   \n",
       "\n",
       "                 Address  \n",
       "45   2018 W. Chicago Ave  \n",
       "46     25 E. Delaware Pl  \n",
       "47        416 N. York St  \n",
       "48   65 E. Washington St  \n",
       "49       3351 N. Broadwa  "
      ]
     },
     "execution_count": 24,
     "metadata": {},
     "output_type": "execute_result"
    }
   ],
   "source": [
    "df = pd.read_csv(\"sandwich.csv\", encoding=\"utf-8\")\n",
    "df.tail()"
   ]
  },
  {
   "cell_type": "code",
   "execution_count": 25,
   "metadata": {},
   "outputs": [
    {
     "name": "stdout",
     "output_type": "stream",
     "text": [
      "<class 'pandas.core.frame.DataFrame'>\n",
      "RangeIndex: 50 entries, 0 to 49\n",
      "Data columns (total 5 columns):\n",
      " #   Column   Non-Null Count  Dtype  \n",
      "---  ------   --------------  -----  \n",
      " 0   Rank     50 non-null     int64  \n",
      " 1   Cafe     50 non-null     object \n",
      " 2   Menu     50 non-null     object \n",
      " 3   Price    50 non-null     float64\n",
      " 4   Address  50 non-null     object \n",
      "dtypes: float64(1), int64(1), object(3)\n",
      "memory usage: 2.1+ KB\n"
     ]
    }
   ],
   "source": [
    "df.info()"
   ]
  },
  {
   "cell_type": "code",
   "execution_count": 26,
   "metadata": {},
   "outputs": [],
   "source": [
    "sql = \"create table sandwich (ranking int, cafe varchar(32), menu varchar(32), price float, address varchar(32))\"\n",
    "cursor = conn.cursor(buffered=True)\n",
    "cursor.execute(sql)"
   ]
  },
  {
   "cell_type": "code",
   "execution_count": 27,
   "metadata": {},
   "outputs": [
    {
     "name": "stdout",
     "output_type": "stream",
     "text": [
      "('ranking', 'int', 'YES', '', None, '')\n",
      "('cafe', 'varchar(32)', 'YES', '', None, '')\n",
      "('menu', 'varchar(32)', 'YES', '', None, '')\n",
      "('price', 'float', 'YES', '', None, '')\n",
      "('address', 'varchar(32)', 'YES', '', None, '')\n"
     ]
    }
   ],
   "source": [
    "cursor.execute(\"desc sandwich\")\n",
    "result = cursor.fetchall()\n",
    "\n",
    "for row in result:\n",
    "    print(row)"
   ]
  },
  {
   "cell_type": "code",
   "execution_count": 28,
   "metadata": {},
   "outputs": [
    {
     "name": "stdout",
     "output_type": "stream",
     "text": [
      "(1, 'Old Oak Tap', 'BLT', 10.0, '2109 W. Chicago Ave')\n",
      "(2, 'Au Cheval', 'Fried Bologna', 9.0, '800 W. Randolph St')\n",
      "(3, 'Xoco', 'Woodland Mushroom', 9.5, ' 445 N. Clark St')\n",
      "(4, 'Al’s Deli', 'Roast Beef', 9.4, ' 914 Noyes St')\n",
      "(5, 'Publican Quality Meats', 'PB&L', 10.0, '825 W. Fulton Mkt')\n",
      "(6, 'Hendrickx Belgian Bread Crafter', 'Belgian Chicken Curry Salad', 7.25, ' 100 E. Walton St')\n",
      "(7, 'Acadia', 'Lobster Roll', 16.0, '1639 S. Wabash Ave')\n",
      "(8, 'Birchwood Kitchen', 'Smoked Salmon Salad', 10.0, '2211 W. North Ave')\n",
      "(9, 'Cemitas Puebla', 'Atomica Cemitas', 9.0, '3619 W. North Ave')\n",
      "(10, 'Nana', 'Grilled Laughing Bird Shrimp and Fried Po’ Boy', 17.0, '3267 S. Halsted St')\n",
      "(11, 'Lula Cafe', 'Ham and Raclette Panino', 11.0, '2537 N. Kedzie Blvd')\n",
      "(12, 'Ricobene’s', 'Breaded Steak', 5.49, ' Multiple location')\n",
      "(13, 'Frog n Snail', 'The Hawkeye', 14.0, '3124 N. Broadwa')\n",
      "(14, 'Crosby’s Kitchen', 'Chicken Dip', 10.0, '3455 N. Southport Ave')\n",
      "(15, 'Longman & Eagle', 'Wild Boar Sloppy Joe', 13.0, '2657 N. Kedzie Ave')\n",
      "(16, 'Bari', 'Meatball Sub', 4.5, ' 1120 W. Grand Ave')\n",
      "(17, 'Manny’s', 'Corned Beef', 11.95, ' 1141 S. Jefferson St')\n",
      "(18, 'Eggy’s', 'Turkey Club', 11.5, ' 333 E. Benton Pl')\n",
      "(19, 'Old Jerusalem', 'Falafel', 6.25, ' 1411 N. Wells St')\n",
      "(20, 'Mindy’s HotChocolate', 'Crab Cake', 15.0, '1747 N. Damen Ave')\n",
      "(21, 'Olga’s Delicatessen', 'Chicken Schnitzel', 5.0, '3209 W. Irving Park Rd')\n",
      "(22, 'Dawali Mediterranean Kitchen', 'Shawarma', 6.0, 'Multiple location')\n",
      "(23, 'Big Jones', 'Toasted Pimiento Cheese', 8.0, '5347 N. Clark St')\n",
      "(24, 'La Pane', 'Vegetarian Panino', 5.99, ' 2954 W. Irving Park Rd')\n",
      "(25, 'Pastoral', 'Cali Chèvre', 7.52, ' Multiple location')\n",
      "(26, 'Max’s Deli', 'Pastrami', 11.95, ' 191 Skokie Valley Rd')\n",
      "(27, 'Lucky’s Sandwich Co.', 'The Fredo', 7.5, ' Multiple location')\n",
      "(28, 'City Provisions', 'Smoked Ham', 12.95, ' 1818 W. Wilson Ave')\n",
      "(29, 'Papa’s Cache Sabroso', 'Jibarito', 7.0, '2517 W. Division St')\n",
      "(30, 'Bavette’s Bar & Boeuf', 'Shaved Prime Rib', 21.0, '218 W. Kinzie St')\n",
      "(31, 'Hannah’s Bretzel', 'Serrano Ham and Manchego Cheese', 9.79, ' Multiple location')\n",
      "(32, 'La Fournette', 'Tuna Salad', 9.75, ' 1547 N. Wells St')\n",
      "(33, 'Paramount Room', 'Paramount Reuben', 13.0, '415 N. Milwaukee Ave')\n",
      "(34, 'Melt Sandwich Shoppe', 'The Istanbul', 7.95, ' 1840 N. Damen Ave')\n",
      "(35, 'Floriole Cafe & Bakery', 'B.A.D.', 9.0, '1220 W. Webster Ave')\n",
      "(36, 'First Slice Pie Café', 'Duck Confit and Mozzarella', 9.0, '5357 N. Ashland Ave')\n",
      "(37, 'Troquet', 'Croque Monsieur', 8.0, '1834 W. Montrose Ave')\n",
      "(38, 'Grahamwich', 'Green Garbanzo', 8.0, '615 N. State St')\n",
      "(39, 'Saigon Sisters', 'The Hen House', 7.0, 'Multiple location')\n",
      "(40, 'Rosalia’s Deli', 'Tuscan Chicken', 6.0, '241 N. York Rd')\n",
      "(41, 'Z&H MarketCafe', 'The Marty ', 7.25, ' 1323 E. 57th St')\n",
      "(42, 'Market House on the Square', 'Whitefish', 11.0, '655 Forest Ave')\n",
      "(43, 'Elaine’s Coffee Call', 'Oat Bread, Pecan Butter, and Fruit Jam', 6.0, 'Hotel Lincol')\n",
      "(44, 'Marion Street Cheese Market', 'Cauliflower Melt', 9.0, '100 S. Marion St')\n",
      "(45, 'Cafecito', 'Cubana', 5.49, ' 26 E. Congress Pkwy')\n",
      "(46, 'Chickpea', 'Kufta', 8.0, '2018 W. Chicago Ave')\n",
      "(47, 'The Goddess and Grocer', 'Debbie’s Egg Salad', 6.5, ' 25 E. Delaware Pl')\n",
      "(48, 'Zenwich', 'Beef Curry', 7.5, ' 416 N. York St')\n",
      "(49, 'Toni Patisserie', 'Le Végétarien', 8.75, ' 65 E. Washington St')\n",
      "(50, 'Phoebe’s Bakery', 'The Gatsby', 6.85, ' 3351 N. Broadwa')\n"
     ]
    }
   ],
   "source": [
    "sql = \"insert into sandwich values (%s, %s, %s, %s, %s)\"\n",
    "\n",
    "for i, row in df.iterrows():\n",
    "    cursor.execute(sql, tuple(row))\n",
    "    print(tuple(row))\n",
    "    conn.commit()"
   ]
  },
  {
   "cell_type": "code",
   "execution_count": 29,
   "metadata": {},
   "outputs": [],
   "source": [
    "conn.close()"
   ]
  }
 ],
 "metadata": {
  "kernelspec": {
   "display_name": "ds_study",
   "language": "python",
   "name": "python3"
  },
  "language_info": {
   "codemirror_mode": {
    "name": "ipython",
    "version": 3
   },
   "file_extension": ".py",
   "mimetype": "text/x-python",
   "name": "python",
   "nbconvert_exporter": "python",
   "pygments_lexer": "ipython3",
   "version": "3.8.18"
  }
 },
 "nbformat": 4,
 "nbformat_minor": 2
}
